{
  "nbformat": 4,
  "nbformat_minor": 0,
  "metadata": {
    "colab": {
      "name": "Data_Preparation_Bangkit_Capstone_Project.ipynb",
      "provenance": [],
      "collapsed_sections": [],
      "toc_visible": true
    },
    "kernelspec": {
      "name": "python3",
      "display_name": "Python 3"
    },
    "language_info": {
      "name": "python"
    }
  },
  "cells": [
    {
      "cell_type": "markdown",
      "metadata": {
        "id": "UjQ7J91q6L9Y"
      },
      "source": [
        "# **DATA PREPARATION**\n",
        "\n",
        "This notebook is used to perform data preparation from the dataset below : \n",
        "\n",
        "https://www.kaggle.com/c/competitive-data-science-predict-future-sales/data?select=sales_train.csv\n",
        "\n"
      ]
    },
    {
      "cell_type": "markdown",
      "metadata": {
        "id": "HrZyrNTE70aO"
      },
      "source": [
        "## **1. Acquiring Data**\n",
        "\n",
        "The dataset will be downloaded using direct download via the Kaggle API key"
      ]
    },
    {
      "cell_type": "code",
      "metadata": {
        "id": "F7LnGXU26Lkc"
      },
      "source": [
        "! chmod 600 kaggle.json"
      ],
      "execution_count": 1,
      "outputs": []
    },
    {
      "cell_type": "code",
      "metadata": {
        "colab": {
          "base_uri": "https://localhost:8080/"
        },
        "id": "FiEwAdAB8mdM",
        "outputId": "4051d0d3-c5f4-497c-ba94-8f58cc99f786"
      },
      "source": [
        "! KAGGLE_CONFIG_DIR=/content/ kaggle competitions download -c competitive-data-science-predict-future-sales"
      ],
      "execution_count": 2,
      "outputs": [
        {
          "output_type": "stream",
          "text": [
            "Warning: Looks like you're using an outdated API Version, please consider updating (server 1.5.12 / client 1.5.4)\n",
            "items.csv.zip: Skipping, found more recently modified local copy (use --force to force download)\n",
            "sample_submission.csv.zip: Skipping, found more recently modified local copy (use --force to force download)\n",
            "sales_train.csv.zip: Skipping, found more recently modified local copy (use --force to force download)\n",
            "shops.csv: Skipping, found more recently modified local copy (use --force to force download)\n",
            "test.csv.zip: Skipping, found more recently modified local copy (use --force to force download)\n",
            "item_categories.csv: Skipping, found more recently modified local copy (use --force to force download)\n"
          ],
          "name": "stdout"
        }
      ]
    },
    {
      "cell_type": "code",
      "metadata": {
        "colab": {
          "base_uri": "https://localhost:8080/"
        },
        "id": "wjbnRcYL890X",
        "outputId": "7ec97335-738f-4086-b8e1-f891e94c6cd0"
      },
      "source": [
        "! mkdir dataset"
      ],
      "execution_count": 3,
      "outputs": [
        {
          "output_type": "stream",
          "text": [
            "mkdir: cannot create directory ‘dataset’: File exists\n"
          ],
          "name": "stdout"
        }
      ]
    },
    {
      "cell_type": "code",
      "metadata": {
        "id": "qx7sSsA_9LDR"
      },
      "source": [
        "import zipfile"
      ],
      "execution_count": 4,
      "outputs": []
    },
    {
      "cell_type": "code",
      "metadata": {
        "id": "qBLkBx4c84Bs"
      },
      "source": [
        "with zipfile.ZipFile('/content/sales_train.csv.zip','r') as f:\n",
        "  f.extractall('/content/dataset/')"
      ],
      "execution_count": 5,
      "outputs": []
    },
    {
      "cell_type": "markdown",
      "metadata": {
        "id": "mmyot0H_9cK5"
      },
      "source": [
        "## **2. Loading Dataset Into DataFrame**"
      ]
    },
    {
      "cell_type": "code",
      "metadata": {
        "id": "KdB9Ketk9mVa"
      },
      "source": [
        "import pandas as pd"
      ],
      "execution_count": 6,
      "outputs": []
    },
    {
      "cell_type": "code",
      "metadata": {
        "id": "OH19J5hP9MUr"
      },
      "source": [
        "product_sales_df = pd.read_csv('/content/dataset/sales_train.csv')"
      ],
      "execution_count": 7,
      "outputs": []
    },
    {
      "cell_type": "code",
      "metadata": {
        "colab": {
          "base_uri": "https://localhost:8080/",
          "height": 402
        },
        "id": "89-sdMuZ9ujS",
        "outputId": "dd3a6070-4a16-4b68-d271-61c448264c33"
      },
      "source": [
        "product_sales_df"
      ],
      "execution_count": 8,
      "outputs": [
        {
          "output_type": "execute_result",
          "data": {
            "text/html": [
              "<div>\n",
              "<style scoped>\n",
              "    .dataframe tbody tr th:only-of-type {\n",
              "        vertical-align: middle;\n",
              "    }\n",
              "\n",
              "    .dataframe tbody tr th {\n",
              "        vertical-align: top;\n",
              "    }\n",
              "\n",
              "    .dataframe thead th {\n",
              "        text-align: right;\n",
              "    }\n",
              "</style>\n",
              "<table border=\"1\" class=\"dataframe\">\n",
              "  <thead>\n",
              "    <tr style=\"text-align: right;\">\n",
              "      <th></th>\n",
              "      <th>date</th>\n",
              "      <th>date_block_num</th>\n",
              "      <th>shop_id</th>\n",
              "      <th>item_id</th>\n",
              "      <th>item_price</th>\n",
              "      <th>item_cnt_day</th>\n",
              "    </tr>\n",
              "  </thead>\n",
              "  <tbody>\n",
              "    <tr>\n",
              "      <th>0</th>\n",
              "      <td>02.01.2013</td>\n",
              "      <td>0</td>\n",
              "      <td>59</td>\n",
              "      <td>22154</td>\n",
              "      <td>999.00</td>\n",
              "      <td>1.0</td>\n",
              "    </tr>\n",
              "    <tr>\n",
              "      <th>1</th>\n",
              "      <td>03.01.2013</td>\n",
              "      <td>0</td>\n",
              "      <td>25</td>\n",
              "      <td>2552</td>\n",
              "      <td>899.00</td>\n",
              "      <td>1.0</td>\n",
              "    </tr>\n",
              "    <tr>\n",
              "      <th>2</th>\n",
              "      <td>05.01.2013</td>\n",
              "      <td>0</td>\n",
              "      <td>25</td>\n",
              "      <td>2552</td>\n",
              "      <td>899.00</td>\n",
              "      <td>-1.0</td>\n",
              "    </tr>\n",
              "    <tr>\n",
              "      <th>3</th>\n",
              "      <td>06.01.2013</td>\n",
              "      <td>0</td>\n",
              "      <td>25</td>\n",
              "      <td>2554</td>\n",
              "      <td>1709.05</td>\n",
              "      <td>1.0</td>\n",
              "    </tr>\n",
              "    <tr>\n",
              "      <th>4</th>\n",
              "      <td>15.01.2013</td>\n",
              "      <td>0</td>\n",
              "      <td>25</td>\n",
              "      <td>2555</td>\n",
              "      <td>1099.00</td>\n",
              "      <td>1.0</td>\n",
              "    </tr>\n",
              "    <tr>\n",
              "      <th>...</th>\n",
              "      <td>...</td>\n",
              "      <td>...</td>\n",
              "      <td>...</td>\n",
              "      <td>...</td>\n",
              "      <td>...</td>\n",
              "      <td>...</td>\n",
              "    </tr>\n",
              "    <tr>\n",
              "      <th>2935844</th>\n",
              "      <td>10.10.2015</td>\n",
              "      <td>33</td>\n",
              "      <td>25</td>\n",
              "      <td>7409</td>\n",
              "      <td>299.00</td>\n",
              "      <td>1.0</td>\n",
              "    </tr>\n",
              "    <tr>\n",
              "      <th>2935845</th>\n",
              "      <td>09.10.2015</td>\n",
              "      <td>33</td>\n",
              "      <td>25</td>\n",
              "      <td>7460</td>\n",
              "      <td>299.00</td>\n",
              "      <td>1.0</td>\n",
              "    </tr>\n",
              "    <tr>\n",
              "      <th>2935846</th>\n",
              "      <td>14.10.2015</td>\n",
              "      <td>33</td>\n",
              "      <td>25</td>\n",
              "      <td>7459</td>\n",
              "      <td>349.00</td>\n",
              "      <td>1.0</td>\n",
              "    </tr>\n",
              "    <tr>\n",
              "      <th>2935847</th>\n",
              "      <td>22.10.2015</td>\n",
              "      <td>33</td>\n",
              "      <td>25</td>\n",
              "      <td>7440</td>\n",
              "      <td>299.00</td>\n",
              "      <td>1.0</td>\n",
              "    </tr>\n",
              "    <tr>\n",
              "      <th>2935848</th>\n",
              "      <td>03.10.2015</td>\n",
              "      <td>33</td>\n",
              "      <td>25</td>\n",
              "      <td>7460</td>\n",
              "      <td>299.00</td>\n",
              "      <td>1.0</td>\n",
              "    </tr>\n",
              "  </tbody>\n",
              "</table>\n",
              "<p>2935849 rows × 6 columns</p>\n",
              "</div>"
            ],
            "text/plain": [
              "               date  date_block_num  shop_id  item_id  item_price  item_cnt_day\n",
              "0        02.01.2013               0       59    22154      999.00           1.0\n",
              "1        03.01.2013               0       25     2552      899.00           1.0\n",
              "2        05.01.2013               0       25     2552      899.00          -1.0\n",
              "3        06.01.2013               0       25     2554     1709.05           1.0\n",
              "4        15.01.2013               0       25     2555     1099.00           1.0\n",
              "...             ...             ...      ...      ...         ...           ...\n",
              "2935844  10.10.2015              33       25     7409      299.00           1.0\n",
              "2935845  09.10.2015              33       25     7460      299.00           1.0\n",
              "2935846  14.10.2015              33       25     7459      349.00           1.0\n",
              "2935847  22.10.2015              33       25     7440      299.00           1.0\n",
              "2935848  03.10.2015              33       25     7460      299.00           1.0\n",
              "\n",
              "[2935849 rows x 6 columns]"
            ]
          },
          "metadata": {
            "tags": []
          },
          "execution_count": 8
        }
      ]
    },
    {
      "cell_type": "code",
      "metadata": {
        "colab": {
          "base_uri": "https://localhost:8080/"
        },
        "id": "rx8TB5K6J-OL",
        "outputId": "07fd860a-c1ca-4db8-d075-d880ce90c9b0"
      },
      "source": [
        "product_sales_df[product_sales_df['item_id'] == 7460].shape"
      ],
      "execution_count": 9,
      "outputs": [
        {
          "output_type": "execute_result",
          "data": {
            "text/plain": [
              "(118, 6)"
            ]
          },
          "metadata": {
            "tags": []
          },
          "execution_count": 9
        }
      ]
    },
    {
      "cell_type": "code",
      "metadata": {
        "id": "gr6xUIhQKR5I"
      },
      "source": [
        "coba_df = product_sales_df[product_sales_df['item_id'] == 7460]"
      ],
      "execution_count": 10,
      "outputs": []
    },
    {
      "cell_type": "code",
      "metadata": {
        "colab": {
          "base_uri": "https://localhost:8080/"
        },
        "id": "zpddUb7zKWwM",
        "outputId": "73b1c113-a03d-4ecc-fc40-0ababc0ce866"
      },
      "source": [
        "coba_df['shop_id'].unique()"
      ],
      "execution_count": 11,
      "outputs": [
        {
          "output_type": "execute_result",
          "data": {
            "text/plain": [
              "array([59, 44, 38, 21, 22,  2, 11, 14,  7, 28, 25, 27, 47, 37, 57, 56, 52,\n",
              "       54, 19, 15,  3,  4, 10, 31, 50,  6, 53, 48, 24, 58, 18, 41, 26, 46,\n",
              "       35, 42])"
            ]
          },
          "metadata": {
            "tags": []
          },
          "execution_count": 11
        }
      ]
    },
    {
      "cell_type": "code",
      "metadata": {
        "colab": {
          "base_uri": "https://localhost:8080/"
        },
        "id": "PSb3GHzALCRF",
        "outputId": "569d9fad-0577-49d7-a507-89e5ac098a24"
      },
      "source": [
        "coba_df.shape[0]"
      ],
      "execution_count": 12,
      "outputs": [
        {
          "output_type": "execute_result",
          "data": {
            "text/plain": [
              "118"
            ]
          },
          "metadata": {
            "tags": []
          },
          "execution_count": 12
        }
      ]
    },
    {
      "cell_type": "code",
      "metadata": {
        "colab": {
          "base_uri": "https://localhost:8080/"
        },
        "id": "ML2EIyWDLPk4",
        "outputId": "50beea39-0cb2-4b66-f47d-f9fcb064c4e7"
      },
      "source": [
        "coba_df[coba_df['shop_id'] == 59].shape"
      ],
      "execution_count": 13,
      "outputs": [
        {
          "output_type": "execute_result",
          "data": {
            "text/plain": [
              "(4, 6)"
            ]
          },
          "metadata": {
            "tags": []
          },
          "execution_count": 13
        }
      ]
    },
    {
      "cell_type": "code",
      "metadata": {
        "colab": {
          "base_uri": "https://localhost:8080/"
        },
        "id": "YfwWmn5GKtrp",
        "outputId": "0412e23a-ed31-4bbe-df88-448551042ce7"
      },
      "source": [
        "max_shop_id = 0\n",
        "max_row = 0\n",
        "unique_val = coba_df['shop_id'].unique()\n",
        "for i in unique_val:\n",
        "  row = coba_df[coba_df['shop_id'] == i].shape[0]\n",
        "  if row > max_row:\n",
        "    max_shop_id = i\n",
        "    max_row = row\n",
        "print(\"ID : {} --- Total Row : {}\".format(max_shop_id, max_row))"
      ],
      "execution_count": 14,
      "outputs": [
        {
          "output_type": "stream",
          "text": [
            "ID : 25 --- Total Row : 20\n"
          ],
          "name": "stdout"
        }
      ]
    },
    {
      "cell_type": "markdown",
      "metadata": {
        "id": "GypjKiodREhJ"
      },
      "source": [
        "## **3. Checking Missing Values**"
      ]
    },
    {
      "cell_type": "code",
      "metadata": {
        "colab": {
          "base_uri": "https://localhost:8080/"
        },
        "id": "YMRGXPZvQ95k",
        "outputId": "3665620d-4103-4bdc-92f3-20cb1c4cf6ef"
      },
      "source": [
        "product_sales_df.isna().sum()"
      ],
      "execution_count": 15,
      "outputs": [
        {
          "output_type": "execute_result",
          "data": {
            "text/plain": [
              "date              0\n",
              "date_block_num    0\n",
              "shop_id           0\n",
              "item_id           0\n",
              "item_price        0\n",
              "item_cnt_day      0\n",
              "dtype: int64"
            ]
          },
          "metadata": {
            "tags": []
          },
          "execution_count": 15
        }
      ]
    },
    {
      "cell_type": "markdown",
      "metadata": {
        "id": "ezNO_H1nRRpI"
      },
      "source": [
        "## **4. Value Selection at the 'shop_id' Feature**"
      ]
    },
    {
      "cell_type": "code",
      "metadata": {
        "id": "5ZjFc2H3Ri16"
      },
      "source": [
        "# The code below is in comment mode because it is only needed in \n",
        "# a situation to find the value in the 'item_id' feature which has the most instances/rows\n",
        "\n",
        "# def count_features_row(data_frame):\n",
        "#     max_value = 0\n",
        "#     pid_selected = 0\n",
        "#     count_row = len(data_frame['item_id'])\n",
        "#     done_pid = []\n",
        "#     for i in range(0, count_row):\n",
        "#         if data_frame.loc[i, 'item_id'] not in done_pid:\n",
        "#           data = data_frame.loc[i,'item_id']\n",
        "#           if data != 20949:\n",
        "#             done_pid.append(data_frame.loc[i, 'item_id'])\n",
        "#             pid = data_frame.loc[i, 'item_id']\n",
        "#             curr_row_sum = len(data_frame[data_frame['item_id'] == pid])\n",
        "#             if curr_row_sum > max_value:\n",
        "#                 max_value = curr_row_sum\n",
        "#                 pid_selected = pid\n",
        "#     return \"Features dengan row terbanyak :\\n1. 'item_id':{}\\n 2.Total Row : {}\".format(pid_selected, max_value)\n",
        "\n",
        "\n",
        "# print(count_features_row(product_sales_df))"
      ],
      "execution_count": 16,
      "outputs": []
    },
    {
      "cell_type": "code",
      "metadata": {
        "colab": {
          "base_uri": "https://localhost:8080/"
        },
        "id": "5L4kpFhgOuDe",
        "outputId": "1ecdacb2-85d6-4f62-c56f-b79a10a2cd9c"
      },
      "source": [
        "product_sales_df[product_sales_df['item_id'] == 20949].shape"
      ],
      "execution_count": 17,
      "outputs": [
        {
          "output_type": "execute_result",
          "data": {
            "text/plain": [
              "(31340, 6)"
            ]
          },
          "metadata": {
            "tags": []
          },
          "execution_count": 17
        }
      ]
    },
    {
      "cell_type": "markdown",
      "metadata": {
        "id": "c39ZSJRFvalq"
      },
      "source": [
        "## **5. Separating Selected Value in the 'item_id' Feature into Another DataFrame**"
      ]
    },
    {
      "cell_type": "code",
      "metadata": {
        "id": "pbGvsYhkvTKg"
      },
      "source": [
        "fixed_df = product_sales_df[product_sales_df['item_id'] == 20949]"
      ],
      "execution_count": 18,
      "outputs": []
    },
    {
      "cell_type": "code",
      "metadata": {
        "colab": {
          "base_uri": "https://localhost:8080/",
          "height": 402
        },
        "id": "gO0ZU-vP5Rox",
        "outputId": "d9d03474-154d-4a52-bda3-89753e839460"
      },
      "source": [
        "fixed_df"
      ],
      "execution_count": 19,
      "outputs": [
        {
          "output_type": "execute_result",
          "data": {
            "text/html": [
              "<div>\n",
              "<style scoped>\n",
              "    .dataframe tbody tr th:only-of-type {\n",
              "        vertical-align: middle;\n",
              "    }\n",
              "\n",
              "    .dataframe tbody tr th {\n",
              "        vertical-align: top;\n",
              "    }\n",
              "\n",
              "    .dataframe thead th {\n",
              "        text-align: right;\n",
              "    }\n",
              "</style>\n",
              "<table border=\"1\" class=\"dataframe\">\n",
              "  <thead>\n",
              "    <tr style=\"text-align: right;\">\n",
              "      <th></th>\n",
              "      <th>date</th>\n",
              "      <th>date_block_num</th>\n",
              "      <th>shop_id</th>\n",
              "      <th>item_id</th>\n",
              "      <th>item_price</th>\n",
              "      <th>item_cnt_day</th>\n",
              "    </tr>\n",
              "  </thead>\n",
              "  <tbody>\n",
              "    <tr>\n",
              "      <th>352379</th>\n",
              "      <td>30.04.2013</td>\n",
              "      <td>3</td>\n",
              "      <td>22</td>\n",
              "      <td>20949</td>\n",
              "      <td>5.000000</td>\n",
              "      <td>12.0</td>\n",
              "    </tr>\n",
              "    <tr>\n",
              "      <th>352399</th>\n",
              "      <td>29.04.2013</td>\n",
              "      <td>3</td>\n",
              "      <td>22</td>\n",
              "      <td>20949</td>\n",
              "      <td>4.923077</td>\n",
              "      <td>13.0</td>\n",
              "    </tr>\n",
              "    <tr>\n",
              "      <th>352400</th>\n",
              "      <td>28.04.2013</td>\n",
              "      <td>3</td>\n",
              "      <td>22</td>\n",
              "      <td>20949</td>\n",
              "      <td>5.000000</td>\n",
              "      <td>4.0</td>\n",
              "    </tr>\n",
              "    <tr>\n",
              "      <th>352401</th>\n",
              "      <td>27.04.2013</td>\n",
              "      <td>3</td>\n",
              "      <td>22</td>\n",
              "      <td>20949</td>\n",
              "      <td>5.000000</td>\n",
              "      <td>4.0</td>\n",
              "    </tr>\n",
              "    <tr>\n",
              "      <th>352455</th>\n",
              "      <td>24.04.2013</td>\n",
              "      <td>3</td>\n",
              "      <td>22</td>\n",
              "      <td>20949</td>\n",
              "      <td>5.000000</td>\n",
              "      <td>2.0</td>\n",
              "    </tr>\n",
              "    <tr>\n",
              "      <th>...</th>\n",
              "      <td>...</td>\n",
              "      <td>...</td>\n",
              "      <td>...</td>\n",
              "      <td>...</td>\n",
              "      <td>...</td>\n",
              "      <td>...</td>\n",
              "    </tr>\n",
              "    <tr>\n",
              "      <th>2930644</th>\n",
              "      <td>02.10.2015</td>\n",
              "      <td>33</td>\n",
              "      <td>22</td>\n",
              "      <td>20949</td>\n",
              "      <td>5.000000</td>\n",
              "      <td>1.0</td>\n",
              "    </tr>\n",
              "    <tr>\n",
              "      <th>2930645</th>\n",
              "      <td>03.10.2015</td>\n",
              "      <td>33</td>\n",
              "      <td>22</td>\n",
              "      <td>20949</td>\n",
              "      <td>5.000000</td>\n",
              "      <td>2.0</td>\n",
              "    </tr>\n",
              "    <tr>\n",
              "      <th>2930646</th>\n",
              "      <td>04.10.2015</td>\n",
              "      <td>33</td>\n",
              "      <td>22</td>\n",
              "      <td>20949</td>\n",
              "      <td>5.000000</td>\n",
              "      <td>3.0</td>\n",
              "    </tr>\n",
              "    <tr>\n",
              "      <th>2930647</th>\n",
              "      <td>05.10.2015</td>\n",
              "      <td>33</td>\n",
              "      <td>22</td>\n",
              "      <td>20949</td>\n",
              "      <td>5.000000</td>\n",
              "      <td>2.0</td>\n",
              "    </tr>\n",
              "    <tr>\n",
              "      <th>2930648</th>\n",
              "      <td>06.10.2015</td>\n",
              "      <td>33</td>\n",
              "      <td>22</td>\n",
              "      <td>20949</td>\n",
              "      <td>5.000000</td>\n",
              "      <td>2.0</td>\n",
              "    </tr>\n",
              "  </tbody>\n",
              "</table>\n",
              "<p>31340 rows × 6 columns</p>\n",
              "</div>"
            ],
            "text/plain": [
              "               date  date_block_num  shop_id  item_id  item_price  item_cnt_day\n",
              "352379   30.04.2013               3       22    20949    5.000000          12.0\n",
              "352399   29.04.2013               3       22    20949    4.923077          13.0\n",
              "352400   28.04.2013               3       22    20949    5.000000           4.0\n",
              "352401   27.04.2013               3       22    20949    5.000000           4.0\n",
              "352455   24.04.2013               3       22    20949    5.000000           2.0\n",
              "...             ...             ...      ...      ...         ...           ...\n",
              "2930644  02.10.2015              33       22    20949    5.000000           1.0\n",
              "2930645  03.10.2015              33       22    20949    5.000000           2.0\n",
              "2930646  04.10.2015              33       22    20949    5.000000           3.0\n",
              "2930647  05.10.2015              33       22    20949    5.000000           2.0\n",
              "2930648  06.10.2015              33       22    20949    5.000000           2.0\n",
              "\n",
              "[31340 rows x 6 columns]"
            ]
          },
          "metadata": {
            "tags": []
          },
          "execution_count": 19
        }
      ]
    },
    {
      "cell_type": "markdown",
      "metadata": {
        "id": "LsGbLN0ev24_"
      },
      "source": [
        "## **6. Checking Particular Value in the 'shop_id' Feature**"
      ]
    },
    {
      "cell_type": "code",
      "metadata": {
        "colab": {
          "base_uri": "https://localhost:8080/"
        },
        "id": "cYW7_5olwFT6",
        "outputId": "21d166b8-b839-405e-c3fc-34efda51c6ab"
      },
      "source": [
        "fixed_df[fixed_df['shop_id'] == 22].shape"
      ],
      "execution_count": 20,
      "outputs": [
        {
          "output_type": "execute_result",
          "data": {
            "text/plain": [
              "(848, 6)"
            ]
          },
          "metadata": {
            "tags": []
          },
          "execution_count": 20
        }
      ]
    },
    {
      "cell_type": "markdown",
      "metadata": {
        "id": "ENihiys85iHh"
      },
      "source": [
        "## **7. Separating Selected Value in the 'shop_id' Feature Into Another DataFrame**"
      ]
    },
    {
      "cell_type": "code",
      "metadata": {
        "id": "_Zxymaaf4NVo"
      },
      "source": [
        "shop_22_df = fixed_df[fixed_df['shop_id'] == 22]"
      ],
      "execution_count": 21,
      "outputs": []
    },
    {
      "cell_type": "code",
      "metadata": {
        "colab": {
          "base_uri": "https://localhost:8080/",
          "height": 402
        },
        "id": "rQNQzefk5dA0",
        "outputId": "80db9ec8-d0f4-4680-adb7-ebce094ac6af"
      },
      "source": [
        "shop_22_df"
      ],
      "execution_count": 22,
      "outputs": [
        {
          "output_type": "execute_result",
          "data": {
            "text/html": [
              "<div>\n",
              "<style scoped>\n",
              "    .dataframe tbody tr th:only-of-type {\n",
              "        vertical-align: middle;\n",
              "    }\n",
              "\n",
              "    .dataframe tbody tr th {\n",
              "        vertical-align: top;\n",
              "    }\n",
              "\n",
              "    .dataframe thead th {\n",
              "        text-align: right;\n",
              "    }\n",
              "</style>\n",
              "<table border=\"1\" class=\"dataframe\">\n",
              "  <thead>\n",
              "    <tr style=\"text-align: right;\">\n",
              "      <th></th>\n",
              "      <th>date</th>\n",
              "      <th>date_block_num</th>\n",
              "      <th>shop_id</th>\n",
              "      <th>item_id</th>\n",
              "      <th>item_price</th>\n",
              "      <th>item_cnt_day</th>\n",
              "    </tr>\n",
              "  </thead>\n",
              "  <tbody>\n",
              "    <tr>\n",
              "      <th>352379</th>\n",
              "      <td>30.04.2013</td>\n",
              "      <td>3</td>\n",
              "      <td>22</td>\n",
              "      <td>20949</td>\n",
              "      <td>5.000000</td>\n",
              "      <td>12.0</td>\n",
              "    </tr>\n",
              "    <tr>\n",
              "      <th>352399</th>\n",
              "      <td>29.04.2013</td>\n",
              "      <td>3</td>\n",
              "      <td>22</td>\n",
              "      <td>20949</td>\n",
              "      <td>4.923077</td>\n",
              "      <td>13.0</td>\n",
              "    </tr>\n",
              "    <tr>\n",
              "      <th>352400</th>\n",
              "      <td>28.04.2013</td>\n",
              "      <td>3</td>\n",
              "      <td>22</td>\n",
              "      <td>20949</td>\n",
              "      <td>5.000000</td>\n",
              "      <td>4.0</td>\n",
              "    </tr>\n",
              "    <tr>\n",
              "      <th>352401</th>\n",
              "      <td>27.04.2013</td>\n",
              "      <td>3</td>\n",
              "      <td>22</td>\n",
              "      <td>20949</td>\n",
              "      <td>5.000000</td>\n",
              "      <td>4.0</td>\n",
              "    </tr>\n",
              "    <tr>\n",
              "      <th>352455</th>\n",
              "      <td>24.04.2013</td>\n",
              "      <td>3</td>\n",
              "      <td>22</td>\n",
              "      <td>20949</td>\n",
              "      <td>5.000000</td>\n",
              "      <td>2.0</td>\n",
              "    </tr>\n",
              "    <tr>\n",
              "      <th>...</th>\n",
              "      <td>...</td>\n",
              "      <td>...</td>\n",
              "      <td>...</td>\n",
              "      <td>...</td>\n",
              "      <td>...</td>\n",
              "      <td>...</td>\n",
              "    </tr>\n",
              "    <tr>\n",
              "      <th>2930644</th>\n",
              "      <td>02.10.2015</td>\n",
              "      <td>33</td>\n",
              "      <td>22</td>\n",
              "      <td>20949</td>\n",
              "      <td>5.000000</td>\n",
              "      <td>1.0</td>\n",
              "    </tr>\n",
              "    <tr>\n",
              "      <th>2930645</th>\n",
              "      <td>03.10.2015</td>\n",
              "      <td>33</td>\n",
              "      <td>22</td>\n",
              "      <td>20949</td>\n",
              "      <td>5.000000</td>\n",
              "      <td>2.0</td>\n",
              "    </tr>\n",
              "    <tr>\n",
              "      <th>2930646</th>\n",
              "      <td>04.10.2015</td>\n",
              "      <td>33</td>\n",
              "      <td>22</td>\n",
              "      <td>20949</td>\n",
              "      <td>5.000000</td>\n",
              "      <td>3.0</td>\n",
              "    </tr>\n",
              "    <tr>\n",
              "      <th>2930647</th>\n",
              "      <td>05.10.2015</td>\n",
              "      <td>33</td>\n",
              "      <td>22</td>\n",
              "      <td>20949</td>\n",
              "      <td>5.000000</td>\n",
              "      <td>2.0</td>\n",
              "    </tr>\n",
              "    <tr>\n",
              "      <th>2930648</th>\n",
              "      <td>06.10.2015</td>\n",
              "      <td>33</td>\n",
              "      <td>22</td>\n",
              "      <td>20949</td>\n",
              "      <td>5.000000</td>\n",
              "      <td>2.0</td>\n",
              "    </tr>\n",
              "  </tbody>\n",
              "</table>\n",
              "<p>848 rows × 6 columns</p>\n",
              "</div>"
            ],
            "text/plain": [
              "               date  date_block_num  shop_id  item_id  item_price  item_cnt_day\n",
              "352379   30.04.2013               3       22    20949    5.000000          12.0\n",
              "352399   29.04.2013               3       22    20949    4.923077          13.0\n",
              "352400   28.04.2013               3       22    20949    5.000000           4.0\n",
              "352401   27.04.2013               3       22    20949    5.000000           4.0\n",
              "352455   24.04.2013               3       22    20949    5.000000           2.0\n",
              "...             ...             ...      ...      ...         ...           ...\n",
              "2930644  02.10.2015              33       22    20949    5.000000           1.0\n",
              "2930645  03.10.2015              33       22    20949    5.000000           2.0\n",
              "2930646  04.10.2015              33       22    20949    5.000000           3.0\n",
              "2930647  05.10.2015              33       22    20949    5.000000           2.0\n",
              "2930648  06.10.2015              33       22    20949    5.000000           2.0\n",
              "\n",
              "[848 rows x 6 columns]"
            ]
          },
          "metadata": {
            "tags": []
          },
          "execution_count": 22
        }
      ]
    },
    {
      "cell_type": "markdown",
      "metadata": {
        "id": "kSCDQjrM5zuD"
      },
      "source": [
        "## **8. Converting 'date' Feature Into DateTime Pandas Format, and make it as an Index**"
      ]
    },
    {
      "cell_type": "code",
      "metadata": {
        "id": "YrPdUB0b5xkt"
      },
      "source": [
        "datetime = pd.to_datetime(shop_22_df['date'])"
      ],
      "execution_count": 23,
      "outputs": []
    },
    {
      "cell_type": "code",
      "metadata": {
        "colab": {
          "base_uri": "https://localhost:8080/"
        },
        "id": "A5f53IeG6MeV",
        "outputId": "f07310d1-d3bf-493f-d212-b01b33233545"
      },
      "source": [
        "datetime"
      ],
      "execution_count": 24,
      "outputs": [
        {
          "output_type": "execute_result",
          "data": {
            "text/plain": [
              "352379    2013-04-30\n",
              "352399    2013-04-29\n",
              "352400    2013-04-28\n",
              "352401    2013-04-27\n",
              "352455    2013-04-24\n",
              "             ...    \n",
              "2930644   2015-02-10\n",
              "2930645   2015-03-10\n",
              "2930646   2015-04-10\n",
              "2930647   2015-05-10\n",
              "2930648   2015-06-10\n",
              "Name: date, Length: 848, dtype: datetime64[ns]"
            ]
          },
          "metadata": {
            "tags": []
          },
          "execution_count": 24
        }
      ]
    },
    {
      "cell_type": "code",
      "metadata": {
        "colab": {
          "base_uri": "https://localhost:8080/"
        },
        "id": "mHo1wsu66OJ7",
        "outputId": "fb6b45b4-848b-4ab5-81c0-b7296f57d4f9"
      },
      "source": [
        "shop_22_df.drop(columns=['date'], axis=1, inplace=True)"
      ],
      "execution_count": 25,
      "outputs": [
        {
          "output_type": "stream",
          "text": [
            "/usr/local/lib/python3.7/dist-packages/pandas/core/frame.py:4174: SettingWithCopyWarning: \n",
            "A value is trying to be set on a copy of a slice from a DataFrame\n",
            "\n",
            "See the caveats in the documentation: https://pandas.pydata.org/pandas-docs/stable/user_guide/indexing.html#returning-a-view-versus-a-copy\n",
            "  errors=errors,\n"
          ],
          "name": "stderr"
        }
      ]
    },
    {
      "cell_type": "code",
      "metadata": {
        "colab": {
          "base_uri": "https://localhost:8080/"
        },
        "id": "uwzgKUij6ZVM",
        "outputId": "9fa84f62-0f3c-4df2-adc1-f978e9d77172"
      },
      "source": [
        "shop_22_df['date'] = datetime"
      ],
      "execution_count": 26,
      "outputs": [
        {
          "output_type": "stream",
          "text": [
            "/usr/local/lib/python3.7/dist-packages/ipykernel_launcher.py:1: SettingWithCopyWarning: \n",
            "A value is trying to be set on a copy of a slice from a DataFrame.\n",
            "Try using .loc[row_indexer,col_indexer] = value instead\n",
            "\n",
            "See the caveats in the documentation: https://pandas.pydata.org/pandas-docs/stable/user_guide/indexing.html#returning-a-view-versus-a-copy\n",
            "  \"\"\"Entry point for launching an IPython kernel.\n"
          ],
          "name": "stderr"
        }
      ]
    },
    {
      "cell_type": "code",
      "metadata": {
        "colab": {
          "base_uri": "https://localhost:8080/",
          "height": 402
        },
        "id": "DLlmkRGS6cy4",
        "outputId": "756119a5-40ad-4756-8d2b-fbe8bc60f2a1"
      },
      "source": [
        "shop_22_df"
      ],
      "execution_count": 27,
      "outputs": [
        {
          "output_type": "execute_result",
          "data": {
            "text/html": [
              "<div>\n",
              "<style scoped>\n",
              "    .dataframe tbody tr th:only-of-type {\n",
              "        vertical-align: middle;\n",
              "    }\n",
              "\n",
              "    .dataframe tbody tr th {\n",
              "        vertical-align: top;\n",
              "    }\n",
              "\n",
              "    .dataframe thead th {\n",
              "        text-align: right;\n",
              "    }\n",
              "</style>\n",
              "<table border=\"1\" class=\"dataframe\">\n",
              "  <thead>\n",
              "    <tr style=\"text-align: right;\">\n",
              "      <th></th>\n",
              "      <th>date_block_num</th>\n",
              "      <th>shop_id</th>\n",
              "      <th>item_id</th>\n",
              "      <th>item_price</th>\n",
              "      <th>item_cnt_day</th>\n",
              "      <th>date</th>\n",
              "    </tr>\n",
              "  </thead>\n",
              "  <tbody>\n",
              "    <tr>\n",
              "      <th>352379</th>\n",
              "      <td>3</td>\n",
              "      <td>22</td>\n",
              "      <td>20949</td>\n",
              "      <td>5.000000</td>\n",
              "      <td>12.0</td>\n",
              "      <td>2013-04-30</td>\n",
              "    </tr>\n",
              "    <tr>\n",
              "      <th>352399</th>\n",
              "      <td>3</td>\n",
              "      <td>22</td>\n",
              "      <td>20949</td>\n",
              "      <td>4.923077</td>\n",
              "      <td>13.0</td>\n",
              "      <td>2013-04-29</td>\n",
              "    </tr>\n",
              "    <tr>\n",
              "      <th>352400</th>\n",
              "      <td>3</td>\n",
              "      <td>22</td>\n",
              "      <td>20949</td>\n",
              "      <td>5.000000</td>\n",
              "      <td>4.0</td>\n",
              "      <td>2013-04-28</td>\n",
              "    </tr>\n",
              "    <tr>\n",
              "      <th>352401</th>\n",
              "      <td>3</td>\n",
              "      <td>22</td>\n",
              "      <td>20949</td>\n",
              "      <td>5.000000</td>\n",
              "      <td>4.0</td>\n",
              "      <td>2013-04-27</td>\n",
              "    </tr>\n",
              "    <tr>\n",
              "      <th>352455</th>\n",
              "      <td>3</td>\n",
              "      <td>22</td>\n",
              "      <td>20949</td>\n",
              "      <td>5.000000</td>\n",
              "      <td>2.0</td>\n",
              "      <td>2013-04-24</td>\n",
              "    </tr>\n",
              "    <tr>\n",
              "      <th>...</th>\n",
              "      <td>...</td>\n",
              "      <td>...</td>\n",
              "      <td>...</td>\n",
              "      <td>...</td>\n",
              "      <td>...</td>\n",
              "      <td>...</td>\n",
              "    </tr>\n",
              "    <tr>\n",
              "      <th>2930644</th>\n",
              "      <td>33</td>\n",
              "      <td>22</td>\n",
              "      <td>20949</td>\n",
              "      <td>5.000000</td>\n",
              "      <td>1.0</td>\n",
              "      <td>2015-02-10</td>\n",
              "    </tr>\n",
              "    <tr>\n",
              "      <th>2930645</th>\n",
              "      <td>33</td>\n",
              "      <td>22</td>\n",
              "      <td>20949</td>\n",
              "      <td>5.000000</td>\n",
              "      <td>2.0</td>\n",
              "      <td>2015-03-10</td>\n",
              "    </tr>\n",
              "    <tr>\n",
              "      <th>2930646</th>\n",
              "      <td>33</td>\n",
              "      <td>22</td>\n",
              "      <td>20949</td>\n",
              "      <td>5.000000</td>\n",
              "      <td>3.0</td>\n",
              "      <td>2015-04-10</td>\n",
              "    </tr>\n",
              "    <tr>\n",
              "      <th>2930647</th>\n",
              "      <td>33</td>\n",
              "      <td>22</td>\n",
              "      <td>20949</td>\n",
              "      <td>5.000000</td>\n",
              "      <td>2.0</td>\n",
              "      <td>2015-05-10</td>\n",
              "    </tr>\n",
              "    <tr>\n",
              "      <th>2930648</th>\n",
              "      <td>33</td>\n",
              "      <td>22</td>\n",
              "      <td>20949</td>\n",
              "      <td>5.000000</td>\n",
              "      <td>2.0</td>\n",
              "      <td>2015-06-10</td>\n",
              "    </tr>\n",
              "  </tbody>\n",
              "</table>\n",
              "<p>848 rows × 6 columns</p>\n",
              "</div>"
            ],
            "text/plain": [
              "         date_block_num  shop_id  item_id  item_price  item_cnt_day       date\n",
              "352379                3       22    20949    5.000000          12.0 2013-04-30\n",
              "352399                3       22    20949    4.923077          13.0 2013-04-29\n",
              "352400                3       22    20949    5.000000           4.0 2013-04-28\n",
              "352401                3       22    20949    5.000000           4.0 2013-04-27\n",
              "352455                3       22    20949    5.000000           2.0 2013-04-24\n",
              "...                 ...      ...      ...         ...           ...        ...\n",
              "2930644              33       22    20949    5.000000           1.0 2015-02-10\n",
              "2930645              33       22    20949    5.000000           2.0 2015-03-10\n",
              "2930646              33       22    20949    5.000000           3.0 2015-04-10\n",
              "2930647              33       22    20949    5.000000           2.0 2015-05-10\n",
              "2930648              33       22    20949    5.000000           2.0 2015-06-10\n",
              "\n",
              "[848 rows x 6 columns]"
            ]
          },
          "metadata": {
            "tags": []
          },
          "execution_count": 27
        }
      ]
    },
    {
      "cell_type": "code",
      "metadata": {
        "id": "2Sxc2ebT6gMG"
      },
      "source": [
        "shop_22_df.set_index('date', inplace=True)"
      ],
      "execution_count": 28,
      "outputs": []
    },
    {
      "cell_type": "code",
      "metadata": {
        "colab": {
          "base_uri": "https://localhost:8080/",
          "height": 431
        },
        "id": "IGOxp-kV6odR",
        "outputId": "5b1c00ed-52f3-4dbe-a292-66d880e39768"
      },
      "source": [
        "shop_22_df"
      ],
      "execution_count": 29,
      "outputs": [
        {
          "output_type": "execute_result",
          "data": {
            "text/html": [
              "<div>\n",
              "<style scoped>\n",
              "    .dataframe tbody tr th:only-of-type {\n",
              "        vertical-align: middle;\n",
              "    }\n",
              "\n",
              "    .dataframe tbody tr th {\n",
              "        vertical-align: top;\n",
              "    }\n",
              "\n",
              "    .dataframe thead th {\n",
              "        text-align: right;\n",
              "    }\n",
              "</style>\n",
              "<table border=\"1\" class=\"dataframe\">\n",
              "  <thead>\n",
              "    <tr style=\"text-align: right;\">\n",
              "      <th></th>\n",
              "      <th>date_block_num</th>\n",
              "      <th>shop_id</th>\n",
              "      <th>item_id</th>\n",
              "      <th>item_price</th>\n",
              "      <th>item_cnt_day</th>\n",
              "    </tr>\n",
              "    <tr>\n",
              "      <th>date</th>\n",
              "      <th></th>\n",
              "      <th></th>\n",
              "      <th></th>\n",
              "      <th></th>\n",
              "      <th></th>\n",
              "    </tr>\n",
              "  </thead>\n",
              "  <tbody>\n",
              "    <tr>\n",
              "      <th>2013-04-30</th>\n",
              "      <td>3</td>\n",
              "      <td>22</td>\n",
              "      <td>20949</td>\n",
              "      <td>5.000000</td>\n",
              "      <td>12.0</td>\n",
              "    </tr>\n",
              "    <tr>\n",
              "      <th>2013-04-29</th>\n",
              "      <td>3</td>\n",
              "      <td>22</td>\n",
              "      <td>20949</td>\n",
              "      <td>4.923077</td>\n",
              "      <td>13.0</td>\n",
              "    </tr>\n",
              "    <tr>\n",
              "      <th>2013-04-28</th>\n",
              "      <td>3</td>\n",
              "      <td>22</td>\n",
              "      <td>20949</td>\n",
              "      <td>5.000000</td>\n",
              "      <td>4.0</td>\n",
              "    </tr>\n",
              "    <tr>\n",
              "      <th>2013-04-27</th>\n",
              "      <td>3</td>\n",
              "      <td>22</td>\n",
              "      <td>20949</td>\n",
              "      <td>5.000000</td>\n",
              "      <td>4.0</td>\n",
              "    </tr>\n",
              "    <tr>\n",
              "      <th>2013-04-24</th>\n",
              "      <td>3</td>\n",
              "      <td>22</td>\n",
              "      <td>20949</td>\n",
              "      <td>5.000000</td>\n",
              "      <td>2.0</td>\n",
              "    </tr>\n",
              "    <tr>\n",
              "      <th>...</th>\n",
              "      <td>...</td>\n",
              "      <td>...</td>\n",
              "      <td>...</td>\n",
              "      <td>...</td>\n",
              "      <td>...</td>\n",
              "    </tr>\n",
              "    <tr>\n",
              "      <th>2015-02-10</th>\n",
              "      <td>33</td>\n",
              "      <td>22</td>\n",
              "      <td>20949</td>\n",
              "      <td>5.000000</td>\n",
              "      <td>1.0</td>\n",
              "    </tr>\n",
              "    <tr>\n",
              "      <th>2015-03-10</th>\n",
              "      <td>33</td>\n",
              "      <td>22</td>\n",
              "      <td>20949</td>\n",
              "      <td>5.000000</td>\n",
              "      <td>2.0</td>\n",
              "    </tr>\n",
              "    <tr>\n",
              "      <th>2015-04-10</th>\n",
              "      <td>33</td>\n",
              "      <td>22</td>\n",
              "      <td>20949</td>\n",
              "      <td>5.000000</td>\n",
              "      <td>3.0</td>\n",
              "    </tr>\n",
              "    <tr>\n",
              "      <th>2015-05-10</th>\n",
              "      <td>33</td>\n",
              "      <td>22</td>\n",
              "      <td>20949</td>\n",
              "      <td>5.000000</td>\n",
              "      <td>2.0</td>\n",
              "    </tr>\n",
              "    <tr>\n",
              "      <th>2015-06-10</th>\n",
              "      <td>33</td>\n",
              "      <td>22</td>\n",
              "      <td>20949</td>\n",
              "      <td>5.000000</td>\n",
              "      <td>2.0</td>\n",
              "    </tr>\n",
              "  </tbody>\n",
              "</table>\n",
              "<p>848 rows × 5 columns</p>\n",
              "</div>"
            ],
            "text/plain": [
              "            date_block_num  shop_id  item_id  item_price  item_cnt_day\n",
              "date                                                                  \n",
              "2013-04-30               3       22    20949    5.000000          12.0\n",
              "2013-04-29               3       22    20949    4.923077          13.0\n",
              "2013-04-28               3       22    20949    5.000000           4.0\n",
              "2013-04-27               3       22    20949    5.000000           4.0\n",
              "2013-04-24               3       22    20949    5.000000           2.0\n",
              "...                    ...      ...      ...         ...           ...\n",
              "2015-02-10              33       22    20949    5.000000           1.0\n",
              "2015-03-10              33       22    20949    5.000000           2.0\n",
              "2015-04-10              33       22    20949    5.000000           3.0\n",
              "2015-05-10              33       22    20949    5.000000           2.0\n",
              "2015-06-10              33       22    20949    5.000000           2.0\n",
              "\n",
              "[848 rows x 5 columns]"
            ]
          },
          "metadata": {
            "tags": []
          },
          "execution_count": 29
        }
      ]
    },
    {
      "cell_type": "markdown",
      "metadata": {
        "id": "xj3qDNlm6zb9"
      },
      "source": [
        "## **9. Sorting DataFrame Index**"
      ]
    },
    {
      "cell_type": "code",
      "metadata": {
        "id": "4wXA5Gv96wfF"
      },
      "source": [
        "shop_22_df = shop_22_df.sort_values(by='date')"
      ],
      "execution_count": 30,
      "outputs": []
    },
    {
      "cell_type": "code",
      "metadata": {
        "colab": {
          "base_uri": "https://localhost:8080/",
          "height": 431
        },
        "id": "z07GT0RN6_6N",
        "outputId": "19141bdb-cc23-4313-c20c-1e0cfced042b"
      },
      "source": [
        "shop_22_df"
      ],
      "execution_count": 31,
      "outputs": [
        {
          "output_type": "execute_result",
          "data": {
            "text/html": [
              "<div>\n",
              "<style scoped>\n",
              "    .dataframe tbody tr th:only-of-type {\n",
              "        vertical-align: middle;\n",
              "    }\n",
              "\n",
              "    .dataframe tbody tr th {\n",
              "        vertical-align: top;\n",
              "    }\n",
              "\n",
              "    .dataframe thead th {\n",
              "        text-align: right;\n",
              "    }\n",
              "</style>\n",
              "<table border=\"1\" class=\"dataframe\">\n",
              "  <thead>\n",
              "    <tr style=\"text-align: right;\">\n",
              "      <th></th>\n",
              "      <th>date_block_num</th>\n",
              "      <th>shop_id</th>\n",
              "      <th>item_id</th>\n",
              "      <th>item_price</th>\n",
              "      <th>item_cnt_day</th>\n",
              "    </tr>\n",
              "    <tr>\n",
              "      <th>date</th>\n",
              "      <th></th>\n",
              "      <th></th>\n",
              "      <th></th>\n",
              "      <th></th>\n",
              "      <th></th>\n",
              "    </tr>\n",
              "  </thead>\n",
              "  <tbody>\n",
              "    <tr>\n",
              "      <th>2013-01-05</th>\n",
              "      <td>4</td>\n",
              "      <td>22</td>\n",
              "      <td>20949</td>\n",
              "      <td>5.0</td>\n",
              "      <td>4.0</td>\n",
              "    </tr>\n",
              "    <tr>\n",
              "      <th>2013-01-06</th>\n",
              "      <td>5</td>\n",
              "      <td>22</td>\n",
              "      <td>20949</td>\n",
              "      <td>5.0</td>\n",
              "      <td>5.0</td>\n",
              "    </tr>\n",
              "    <tr>\n",
              "      <th>2013-01-07</th>\n",
              "      <td>6</td>\n",
              "      <td>22</td>\n",
              "      <td>20949</td>\n",
              "      <td>5.0</td>\n",
              "      <td>5.0</td>\n",
              "    </tr>\n",
              "    <tr>\n",
              "      <th>2013-01-08</th>\n",
              "      <td>7</td>\n",
              "      <td>22</td>\n",
              "      <td>20949</td>\n",
              "      <td>5.0</td>\n",
              "      <td>9.0</td>\n",
              "    </tr>\n",
              "    <tr>\n",
              "      <th>2013-01-09</th>\n",
              "      <td>8</td>\n",
              "      <td>22</td>\n",
              "      <td>20949</td>\n",
              "      <td>5.0</td>\n",
              "      <td>5.0</td>\n",
              "    </tr>\n",
              "    <tr>\n",
              "      <th>...</th>\n",
              "      <td>...</td>\n",
              "      <td>...</td>\n",
              "      <td>...</td>\n",
              "      <td>...</td>\n",
              "      <td>...</td>\n",
              "    </tr>\n",
              "    <tr>\n",
              "      <th>2015-12-04</th>\n",
              "      <td>27</td>\n",
              "      <td>22</td>\n",
              "      <td>20949</td>\n",
              "      <td>5.0</td>\n",
              "      <td>1.0</td>\n",
              "    </tr>\n",
              "    <tr>\n",
              "      <th>2015-12-05</th>\n",
              "      <td>28</td>\n",
              "      <td>22</td>\n",
              "      <td>20949</td>\n",
              "      <td>4.8</td>\n",
              "      <td>5.0</td>\n",
              "    </tr>\n",
              "    <tr>\n",
              "      <th>2015-12-06</th>\n",
              "      <td>29</td>\n",
              "      <td>22</td>\n",
              "      <td>20949</td>\n",
              "      <td>5.0</td>\n",
              "      <td>2.0</td>\n",
              "    </tr>\n",
              "    <tr>\n",
              "      <th>2015-12-08</th>\n",
              "      <td>31</td>\n",
              "      <td>22</td>\n",
              "      <td>20949</td>\n",
              "      <td>5.0</td>\n",
              "      <td>1.0</td>\n",
              "    </tr>\n",
              "    <tr>\n",
              "      <th>2015-12-09</th>\n",
              "      <td>32</td>\n",
              "      <td>22</td>\n",
              "      <td>20949</td>\n",
              "      <td>5.0</td>\n",
              "      <td>1.0</td>\n",
              "    </tr>\n",
              "  </tbody>\n",
              "</table>\n",
              "<p>848 rows × 5 columns</p>\n",
              "</div>"
            ],
            "text/plain": [
              "            date_block_num  shop_id  item_id  item_price  item_cnt_day\n",
              "date                                                                  \n",
              "2013-01-05               4       22    20949         5.0           4.0\n",
              "2013-01-06               5       22    20949         5.0           5.0\n",
              "2013-01-07               6       22    20949         5.0           5.0\n",
              "2013-01-08               7       22    20949         5.0           9.0\n",
              "2013-01-09               8       22    20949         5.0           5.0\n",
              "...                    ...      ...      ...         ...           ...\n",
              "2015-12-04              27       22    20949         5.0           1.0\n",
              "2015-12-05              28       22    20949         4.8           5.0\n",
              "2015-12-06              29       22    20949         5.0           2.0\n",
              "2015-12-08              31       22    20949         5.0           1.0\n",
              "2015-12-09              32       22    20949         5.0           1.0\n",
              "\n",
              "[848 rows x 5 columns]"
            ]
          },
          "metadata": {
            "tags": []
          },
          "execution_count": 31
        }
      ]
    },
    {
      "cell_type": "markdown",
      "metadata": {
        "id": "w6uiGit98BP3"
      },
      "source": [
        "## **10. Checking Data Type on each Feature**"
      ]
    },
    {
      "cell_type": "code",
      "metadata": {
        "colab": {
          "base_uri": "https://localhost:8080/"
        },
        "id": "N2_BXayQ78rQ",
        "outputId": "f703e6b9-558c-44cb-c24f-e6bde19fb8a3"
      },
      "source": [
        "shop_22_df.info()"
      ],
      "execution_count": 32,
      "outputs": [
        {
          "output_type": "stream",
          "text": [
            "<class 'pandas.core.frame.DataFrame'>\n",
            "DatetimeIndex: 848 entries, 2013-01-05 to 2015-12-09\n",
            "Data columns (total 5 columns):\n",
            " #   Column          Non-Null Count  Dtype  \n",
            "---  ------          --------------  -----  \n",
            " 0   date_block_num  848 non-null    int64  \n",
            " 1   shop_id         848 non-null    int64  \n",
            " 2   item_id         848 non-null    int64  \n",
            " 3   item_price      848 non-null    float64\n",
            " 4   item_cnt_day    848 non-null    float64\n",
            "dtypes: float64(2), int64(3)\n",
            "memory usage: 39.8 KB\n"
          ],
          "name": "stdout"
        }
      ]
    },
    {
      "cell_type": "markdown",
      "metadata": {
        "id": "aNcfNXP1_c87"
      },
      "source": [
        "## **11. Removing Unnecessary Feature**"
      ]
    },
    {
      "cell_type": "code",
      "metadata": {
        "id": "m70WXfno_cU3"
      },
      "source": [
        "shop_22_df.drop('date_block_num',axis=1,inplace=True)"
      ],
      "execution_count": 33,
      "outputs": []
    },
    {
      "cell_type": "code",
      "metadata": {
        "colab": {
          "base_uri": "https://localhost:8080/",
          "height": 431
        },
        "id": "UhRoQsgs_ql1",
        "outputId": "83224e44-4cd5-431b-b494-599bb023e6ce"
      },
      "source": [
        "shop_22_df"
      ],
      "execution_count": 34,
      "outputs": [
        {
          "output_type": "execute_result",
          "data": {
            "text/html": [
              "<div>\n",
              "<style scoped>\n",
              "    .dataframe tbody tr th:only-of-type {\n",
              "        vertical-align: middle;\n",
              "    }\n",
              "\n",
              "    .dataframe tbody tr th {\n",
              "        vertical-align: top;\n",
              "    }\n",
              "\n",
              "    .dataframe thead th {\n",
              "        text-align: right;\n",
              "    }\n",
              "</style>\n",
              "<table border=\"1\" class=\"dataframe\">\n",
              "  <thead>\n",
              "    <tr style=\"text-align: right;\">\n",
              "      <th></th>\n",
              "      <th>shop_id</th>\n",
              "      <th>item_id</th>\n",
              "      <th>item_price</th>\n",
              "      <th>item_cnt_day</th>\n",
              "    </tr>\n",
              "    <tr>\n",
              "      <th>date</th>\n",
              "      <th></th>\n",
              "      <th></th>\n",
              "      <th></th>\n",
              "      <th></th>\n",
              "    </tr>\n",
              "  </thead>\n",
              "  <tbody>\n",
              "    <tr>\n",
              "      <th>2013-01-05</th>\n",
              "      <td>22</td>\n",
              "      <td>20949</td>\n",
              "      <td>5.0</td>\n",
              "      <td>4.0</td>\n",
              "    </tr>\n",
              "    <tr>\n",
              "      <th>2013-01-06</th>\n",
              "      <td>22</td>\n",
              "      <td>20949</td>\n",
              "      <td>5.0</td>\n",
              "      <td>5.0</td>\n",
              "    </tr>\n",
              "    <tr>\n",
              "      <th>2013-01-07</th>\n",
              "      <td>22</td>\n",
              "      <td>20949</td>\n",
              "      <td>5.0</td>\n",
              "      <td>5.0</td>\n",
              "    </tr>\n",
              "    <tr>\n",
              "      <th>2013-01-08</th>\n",
              "      <td>22</td>\n",
              "      <td>20949</td>\n",
              "      <td>5.0</td>\n",
              "      <td>9.0</td>\n",
              "    </tr>\n",
              "    <tr>\n",
              "      <th>2013-01-09</th>\n",
              "      <td>22</td>\n",
              "      <td>20949</td>\n",
              "      <td>5.0</td>\n",
              "      <td>5.0</td>\n",
              "    </tr>\n",
              "    <tr>\n",
              "      <th>...</th>\n",
              "      <td>...</td>\n",
              "      <td>...</td>\n",
              "      <td>...</td>\n",
              "      <td>...</td>\n",
              "    </tr>\n",
              "    <tr>\n",
              "      <th>2015-12-04</th>\n",
              "      <td>22</td>\n",
              "      <td>20949</td>\n",
              "      <td>5.0</td>\n",
              "      <td>1.0</td>\n",
              "    </tr>\n",
              "    <tr>\n",
              "      <th>2015-12-05</th>\n",
              "      <td>22</td>\n",
              "      <td>20949</td>\n",
              "      <td>4.8</td>\n",
              "      <td>5.0</td>\n",
              "    </tr>\n",
              "    <tr>\n",
              "      <th>2015-12-06</th>\n",
              "      <td>22</td>\n",
              "      <td>20949</td>\n",
              "      <td>5.0</td>\n",
              "      <td>2.0</td>\n",
              "    </tr>\n",
              "    <tr>\n",
              "      <th>2015-12-08</th>\n",
              "      <td>22</td>\n",
              "      <td>20949</td>\n",
              "      <td>5.0</td>\n",
              "      <td>1.0</td>\n",
              "    </tr>\n",
              "    <tr>\n",
              "      <th>2015-12-09</th>\n",
              "      <td>22</td>\n",
              "      <td>20949</td>\n",
              "      <td>5.0</td>\n",
              "      <td>1.0</td>\n",
              "    </tr>\n",
              "  </tbody>\n",
              "</table>\n",
              "<p>848 rows × 4 columns</p>\n",
              "</div>"
            ],
            "text/plain": [
              "            shop_id  item_id  item_price  item_cnt_day\n",
              "date                                                  \n",
              "2013-01-05       22    20949         5.0           4.0\n",
              "2013-01-06       22    20949         5.0           5.0\n",
              "2013-01-07       22    20949         5.0           5.0\n",
              "2013-01-08       22    20949         5.0           9.0\n",
              "2013-01-09       22    20949         5.0           5.0\n",
              "...             ...      ...         ...           ...\n",
              "2015-12-04       22    20949         5.0           1.0\n",
              "2015-12-05       22    20949         4.8           5.0\n",
              "2015-12-06       22    20949         5.0           2.0\n",
              "2015-12-08       22    20949         5.0           1.0\n",
              "2015-12-09       22    20949         5.0           1.0\n",
              "\n",
              "[848 rows x 4 columns]"
            ]
          },
          "metadata": {
            "tags": []
          },
          "execution_count": 34
        }
      ]
    },
    {
      "cell_type": "markdown",
      "metadata": {
        "id": "FFgxofIDAllF"
      },
      "source": [
        "## **12. Changing Column Names**"
      ]
    },
    {
      "cell_type": "code",
      "metadata": {
        "id": "kFpBe9TsAqFV"
      },
      "source": [
        "shop_22_df.columns = ['shop_id','item_id','item_price','item_sold_per_day']"
      ],
      "execution_count": 35,
      "outputs": []
    },
    {
      "cell_type": "code",
      "metadata": {
        "colab": {
          "base_uri": "https://localhost:8080/",
          "height": 431
        },
        "id": "K4NT7TA9A0r3",
        "outputId": "bab1bc46-ae41-47fd-9774-60be8fa4daa9"
      },
      "source": [
        "shop_22_df"
      ],
      "execution_count": 36,
      "outputs": [
        {
          "output_type": "execute_result",
          "data": {
            "text/html": [
              "<div>\n",
              "<style scoped>\n",
              "    .dataframe tbody tr th:only-of-type {\n",
              "        vertical-align: middle;\n",
              "    }\n",
              "\n",
              "    .dataframe tbody tr th {\n",
              "        vertical-align: top;\n",
              "    }\n",
              "\n",
              "    .dataframe thead th {\n",
              "        text-align: right;\n",
              "    }\n",
              "</style>\n",
              "<table border=\"1\" class=\"dataframe\">\n",
              "  <thead>\n",
              "    <tr style=\"text-align: right;\">\n",
              "      <th></th>\n",
              "      <th>shop_id</th>\n",
              "      <th>item_id</th>\n",
              "      <th>item_price</th>\n",
              "      <th>item_sold_per_day</th>\n",
              "    </tr>\n",
              "    <tr>\n",
              "      <th>date</th>\n",
              "      <th></th>\n",
              "      <th></th>\n",
              "      <th></th>\n",
              "      <th></th>\n",
              "    </tr>\n",
              "  </thead>\n",
              "  <tbody>\n",
              "    <tr>\n",
              "      <th>2013-01-05</th>\n",
              "      <td>22</td>\n",
              "      <td>20949</td>\n",
              "      <td>5.0</td>\n",
              "      <td>4.0</td>\n",
              "    </tr>\n",
              "    <tr>\n",
              "      <th>2013-01-06</th>\n",
              "      <td>22</td>\n",
              "      <td>20949</td>\n",
              "      <td>5.0</td>\n",
              "      <td>5.0</td>\n",
              "    </tr>\n",
              "    <tr>\n",
              "      <th>2013-01-07</th>\n",
              "      <td>22</td>\n",
              "      <td>20949</td>\n",
              "      <td>5.0</td>\n",
              "      <td>5.0</td>\n",
              "    </tr>\n",
              "    <tr>\n",
              "      <th>2013-01-08</th>\n",
              "      <td>22</td>\n",
              "      <td>20949</td>\n",
              "      <td>5.0</td>\n",
              "      <td>9.0</td>\n",
              "    </tr>\n",
              "    <tr>\n",
              "      <th>2013-01-09</th>\n",
              "      <td>22</td>\n",
              "      <td>20949</td>\n",
              "      <td>5.0</td>\n",
              "      <td>5.0</td>\n",
              "    </tr>\n",
              "    <tr>\n",
              "      <th>...</th>\n",
              "      <td>...</td>\n",
              "      <td>...</td>\n",
              "      <td>...</td>\n",
              "      <td>...</td>\n",
              "    </tr>\n",
              "    <tr>\n",
              "      <th>2015-12-04</th>\n",
              "      <td>22</td>\n",
              "      <td>20949</td>\n",
              "      <td>5.0</td>\n",
              "      <td>1.0</td>\n",
              "    </tr>\n",
              "    <tr>\n",
              "      <th>2015-12-05</th>\n",
              "      <td>22</td>\n",
              "      <td>20949</td>\n",
              "      <td>4.8</td>\n",
              "      <td>5.0</td>\n",
              "    </tr>\n",
              "    <tr>\n",
              "      <th>2015-12-06</th>\n",
              "      <td>22</td>\n",
              "      <td>20949</td>\n",
              "      <td>5.0</td>\n",
              "      <td>2.0</td>\n",
              "    </tr>\n",
              "    <tr>\n",
              "      <th>2015-12-08</th>\n",
              "      <td>22</td>\n",
              "      <td>20949</td>\n",
              "      <td>5.0</td>\n",
              "      <td>1.0</td>\n",
              "    </tr>\n",
              "    <tr>\n",
              "      <th>2015-12-09</th>\n",
              "      <td>22</td>\n",
              "      <td>20949</td>\n",
              "      <td>5.0</td>\n",
              "      <td>1.0</td>\n",
              "    </tr>\n",
              "  </tbody>\n",
              "</table>\n",
              "<p>848 rows × 4 columns</p>\n",
              "</div>"
            ],
            "text/plain": [
              "            shop_id  item_id  item_price  item_sold_per_day\n",
              "date                                                       \n",
              "2013-01-05       22    20949         5.0                4.0\n",
              "2013-01-06       22    20949         5.0                5.0\n",
              "2013-01-07       22    20949         5.0                5.0\n",
              "2013-01-08       22    20949         5.0                9.0\n",
              "2013-01-09       22    20949         5.0                5.0\n",
              "...             ...      ...         ...                ...\n",
              "2015-12-04       22    20949         5.0                1.0\n",
              "2015-12-05       22    20949         4.8                5.0\n",
              "2015-12-06       22    20949         5.0                2.0\n",
              "2015-12-08       22    20949         5.0                1.0\n",
              "2015-12-09       22    20949         5.0                1.0\n",
              "\n",
              "[848 rows x 4 columns]"
            ]
          },
          "metadata": {
            "tags": []
          },
          "execution_count": 36
        }
      ]
    },
    {
      "cell_type": "markdown",
      "metadata": {
        "id": "y8dmB7d-_y45"
      },
      "source": [
        "## **13. Visualizing the Important Feature**"
      ]
    },
    {
      "cell_type": "code",
      "metadata": {
        "id": "h09t9fMt_3xl"
      },
      "source": [
        "import matplotlib.pyplot as plt"
      ],
      "execution_count": 37,
      "outputs": []
    },
    {
      "cell_type": "code",
      "metadata": {
        "colab": {
          "base_uri": "https://localhost:8080/",
          "height": 428
        },
        "id": "6wBuSJ4wAgGj",
        "outputId": "60de1244-4993-4133-f2d6-059897117ffa"
      },
      "source": [
        "plt.figure(figsize=(12,7))\n",
        "tester_init = shop_22_df.iloc[:40]\n",
        "tester = tester_init['item_sold_per_day']\n",
        "tester_price = tester_init['item_price']\n",
        "plt.plot(\n",
        "    tester.index,\n",
        "    tester)\n",
        "plt.plot(\n",
        "    tester.index,\n",
        "    tester_price\n",
        ")\n",
        "plt.show()"
      ],
      "execution_count": 38,
      "outputs": [
        {
          "output_type": "display_data",
          "data": {
            "image/png": "[encoded data removed]",
            "text/plain": [
              "<Figure size 864x504 with 1 Axes>"
            ]
          },
          "metadata": {
            "tags": [],
            "needs_background": "light"
          }
        }
      ]
    },
    {
      "cell_type": "markdown",
      "metadata": {
        "id": "eum4Hq_WhJ2B"
      },
      "source": [
        "## **14. Selecting Particular Instances & Feature**"
      ]
    },
    {
      "cell_type": "code",
      "metadata": {
        "id": "q7ohLxXlhNRH"
      },
      "source": [
        "shop_22_df = shop_22_df[:40]\n",
        "shop_22_df = shop_22_df[['item_price','item_sold_per_day']]"
      ],
      "execution_count": 39,
      "outputs": []
    },
    {
      "cell_type": "markdown",
      "metadata": {
        "id": "FEMBn0rHhCm1"
      },
      "source": [
        "## **15. Descriptive Statistics**"
      ]
    },
    {
      "cell_type": "code",
      "metadata": {
        "colab": {
          "base_uri": "https://localhost:8080/",
          "height": 284
        },
        "id": "WlYo7_Prg3l4",
        "outputId": "45296864-ec65-4c50-f145-3c93c67bf369"
      },
      "source": [
        "shop_22_df.describe()"
      ],
      "execution_count": 40,
      "outputs": [
        {
          "output_type": "execute_result",
          "data": {
            "text/html": [
              "<div>\n",
              "<style scoped>\n",
              "    .dataframe tbody tr th:only-of-type {\n",
              "        vertical-align: middle;\n",
              "    }\n",
              "\n",
              "    .dataframe tbody tr th {\n",
              "        vertical-align: top;\n",
              "    }\n",
              "\n",
              "    .dataframe thead th {\n",
              "        text-align: right;\n",
              "    }\n",
              "</style>\n",
              "<table border=\"1\" class=\"dataframe\">\n",
              "  <thead>\n",
              "    <tr style=\"text-align: right;\">\n",
              "      <th></th>\n",
              "      <th>item_price</th>\n",
              "      <th>item_sold_per_day</th>\n",
              "    </tr>\n",
              "  </thead>\n",
              "  <tbody>\n",
              "    <tr>\n",
              "      <th>count</th>\n",
              "      <td>40.000000</td>\n",
              "      <td>40.000000</td>\n",
              "    </tr>\n",
              "    <tr>\n",
              "      <th>mean</th>\n",
              "      <td>4.984143</td>\n",
              "      <td>7.500000</td>\n",
              "    </tr>\n",
              "    <tr>\n",
              "      <th>std</th>\n",
              "      <td>0.057184</td>\n",
              "      <td>6.101702</td>\n",
              "    </tr>\n",
              "    <tr>\n",
              "      <th>min</th>\n",
              "      <td>4.666667</td>\n",
              "      <td>1.000000</td>\n",
              "    </tr>\n",
              "    <tr>\n",
              "      <th>25%</th>\n",
              "      <td>5.000000</td>\n",
              "      <td>3.000000</td>\n",
              "    </tr>\n",
              "    <tr>\n",
              "      <th>50%</th>\n",
              "      <td>5.000000</td>\n",
              "      <td>5.000000</td>\n",
              "    </tr>\n",
              "    <tr>\n",
              "      <th>75%</th>\n",
              "      <td>5.000000</td>\n",
              "      <td>10.250000</td>\n",
              "    </tr>\n",
              "    <tr>\n",
              "      <th>max</th>\n",
              "      <td>5.000000</td>\n",
              "      <td>30.000000</td>\n",
              "    </tr>\n",
              "  </tbody>\n",
              "</table>\n",
              "</div>"
            ],
            "text/plain": [
              "       item_price  item_sold_per_day\n",
              "count   40.000000          40.000000\n",
              "mean     4.984143           7.500000\n",
              "std      0.057184           6.101702\n",
              "min      4.666667           1.000000\n",
              "25%      5.000000           3.000000\n",
              "50%      5.000000           5.000000\n",
              "75%      5.000000          10.250000\n",
              "max      5.000000          30.000000"
            ]
          },
          "metadata": {
            "tags": []
          },
          "execution_count": 40
        }
      ]
    },
    {
      "cell_type": "markdown",
      "metadata": {
        "id": "wAwvZ8sNkpl8"
      },
      "source": [
        "## **16. Separating Data into Training Set & Validation Set**"
      ]
    },
    {
      "cell_type": "code",
      "metadata": {
        "id": "mzxBjiupkkeB"
      },
      "source": [
        "train_set = shop_22_df[:30]"
      ],
      "execution_count": 41,
      "outputs": []
    },
    {
      "cell_type": "code",
      "metadata": {
        "id": "IwIRU-kbkxDC"
      },
      "source": [
        "val_set = shop_22_df[:10]"
      ],
      "execution_count": 42,
      "outputs": []
    },
    {
      "cell_type": "markdown",
      "metadata": {
        "id": "AyrpN3FUkDz9"
      },
      "source": [
        "## **17. Normalizing the Data**"
      ]
    },
    {
      "cell_type": "code",
      "metadata": {
        "id": "i8rU2pXokAtX"
      },
      "source": [
        "from sklearn.preprocessing import MinMaxScaler"
      ],
      "execution_count": 43,
      "outputs": []
    },
    {
      "cell_type": "code",
      "metadata": {
        "id": "Sx9dfPq-ka6a"
      },
      "source": [
        "scaler = MinMaxScaler()"
      ],
      "execution_count": 44,
      "outputs": []
    },
    {
      "cell_type": "code",
      "metadata": {
        "id": "bqgI5xSrkdaW"
      },
      "source": [
        "train_set = scaler.fit_transform(train_set)"
      ],
      "execution_count": 45,
      "outputs": []
    },
    {
      "cell_type": "code",
      "metadata": {
        "id": "dkWfEcXqu281"
      },
      "source": [
        "val_set = scaler.fit_transform(val_set)"
      ],
      "execution_count": 46,
      "outputs": []
    },
    {
      "cell_type": "code",
      "metadata": {
        "id": "ExLr9HUPvoVv"
      },
      "source": [
        "import numpy as np"
      ],
      "execution_count": 51,
      "outputs": []
    },
    {
      "cell_type": "code",
      "metadata": {
        "id": "5__ZeP7hvSpW"
      },
      "source": [
        "train_set = pd.DataFrame(train_set,columns=['item_price','item_sold_per_day'],dtype=np.float32)"
      ],
      "execution_count": 52,
      "outputs": []
    },
    {
      "cell_type": "code",
      "metadata": {
        "id": "g_6j7CzovsBk"
      },
      "source": [
        "val_set = pd.DataFrame(val_set,columns=['item_price','item_sold_per_day'],dtype=np.float32)"
      ],
      "execution_count": 53,
      "outputs": []
    },
    {
      "cell_type": "markdown",
      "metadata": {
        "id": "dRuCBdrLl6Nj"
      },
      "source": [
        "## **18. Creating Windowed/Lag**"
      ]
    },
    {
      "cell_type": "code",
      "metadata": {
        "id": "Dqggr06Fmf_b"
      },
      "source": [
        "from keras.preprocessing.sequence import TimeseriesGenerator"
      ],
      "execution_count": 54,
      "outputs": []
    },
    {
      "cell_type": "code",
      "metadata": {
        "id": "s-dFHlDql5Xx"
      },
      "source": [
        "atribut_train = train_set.values"
      ],
      "execution_count": 55,
      "outputs": []
    },
    {
      "cell_type": "code",
      "metadata": {
        "colab": {
          "base_uri": "https://localhost:8080/"
        },
        "id": "ZErckSETlX_-",
        "outputId": "a01d3b1b-d472-4976-e75e-8b77f9e95679"
      },
      "source": [
        "atribut_train"
      ],
      "execution_count": 56,
      "outputs": [
        {
          "output_type": "execute_result",
          "data": {
            "text/plain": [
              "array([[1.        , 0.10344828],\n",
              "       [1.        , 0.13793103],\n",
              "       [1.        , 0.13793103],\n",
              "       [1.        , 0.27586207],\n",
              "       [1.        , 0.13793103],\n",
              "       [1.        , 0.20689656],\n",
              "       [1.        , 0.13793103],\n",
              "       [1.        , 0.13793103],\n",
              "       [1.        , 0.03448276],\n",
              "       [1.        , 0.        ],\n",
              "       [1.        , 0.2413793 ],\n",
              "       [1.        , 0.3448276 ],\n",
              "       [0.8636364 , 0.7241379 ],\n",
              "       [1.        , 0.13793103],\n",
              "       [1.        , 0.06896552],\n",
              "       [1.        , 0.03448276],\n",
              "       [1.        , 0.06896552],\n",
              "       [1.        , 0.06896552],\n",
              "       [1.        , 0.2413793 ],\n",
              "       [1.        , 0.27586207],\n",
              "       [1.        , 1.        ],\n",
              "       [1.        , 0.37931034],\n",
              "       [1.        , 0.        ],\n",
              "       [1.        , 0.31034482],\n",
              "       [0.        , 0.06896552],\n",
              "       [1.        , 0.2413793 ],\n",
              "       [1.        , 0.13793103],\n",
              "       [1.        , 0.06896552],\n",
              "       [1.        , 0.4827586 ],\n",
              "       [0.83928573, 0.44827586]], dtype=float32)"
            ]
          },
          "metadata": {
            "tags": []
          },
          "execution_count": 56
        }
      ]
    },
    {
      "cell_type": "code",
      "metadata": {
        "id": "-D5YVhGmov8S"
      },
      "source": [
        "atribut_val = val_set.values"
      ],
      "execution_count": 57,
      "outputs": []
    },
    {
      "cell_type": "code",
      "metadata": {
        "colab": {
          "base_uri": "https://localhost:8080/"
        },
        "id": "kwzGk-DVtems",
        "outputId": "328a4642-0b55-4b10-9cee-5ca210a05764"
      },
      "source": [
        "train_set.shape"
      ],
      "execution_count": 58,
      "outputs": [
        {
          "output_type": "execute_result",
          "data": {
            "text/plain": [
              "(30, 2)"
            ]
          },
          "metadata": {
            "tags": []
          },
          "execution_count": 58
        }
      ]
    },
    {
      "cell_type": "code",
      "metadata": {
        "colab": {
          "base_uri": "https://localhost:8080/"
        },
        "id": "vfIawGBeqrDi",
        "outputId": "191ff0a8-a6f5-421b-fac4-c9b1eae8391a"
      },
      "source": [
        "train_set = train_set[['item_sold_per_day']]\n",
        "val_set = val_set[['item_sold_per_day']]\n",
        "train_set.shape"
      ],
      "execution_count": 59,
      "outputs": [
        {
          "output_type": "execute_result",
          "data": {
            "text/plain": [
              "(30, 1)"
            ]
          },
          "metadata": {
            "tags": []
          },
          "execution_count": 59
        }
      ]
    },
    {
      "cell_type": "code",
      "metadata": {
        "id": "yVOX9Ep_mw0z"
      },
      "source": [
        "target_train = pd.concat([train_set['item_sold_per_day'], train_set['item_sold_per_day'].shift(-1), train_set['item_sold_per_day'].shift(-2), train_set['item_sold_per_day'].shift(-3), train_set['item_sold_per_day'].shift(-4)], axis=1).dropna().values\n",
        "target_val = pd.concat([val_set['item_sold_per_day'],val_set['item_sold_per_day'].shift(-1),val_set['item_sold_per_day'].shift(-2),val_set['item_sold_per_day'].shift(-3),val_set['item_sold_per_day'].shift(-4)], axis=1).dropna().values"
      ],
      "execution_count": 60,
      "outputs": []
    },
    {
      "cell_type": "code",
      "metadata": {
        "colab": {
          "base_uri": "https://localhost:8080/"
        },
        "id": "5Hq62rnZpoe4",
        "outputId": "6f675fb1-bc59-4516-ebb8-0a50a0dac31a"
      },
      "source": [
        "target_train.shape"
      ],
      "execution_count": 61,
      "outputs": [
        {
          "output_type": "execute_result",
          "data": {
            "text/plain": [
              "(26, 5)"
            ]
          },
          "metadata": {
            "tags": []
          },
          "execution_count": 61
        }
      ]
    },
    {
      "cell_type": "code",
      "metadata": {
        "id": "CKDQSaP-ozQf"
      },
      "source": [
        "window_train = TimeseriesGenerator(atribut_train[:-4], target_train, length=5, batch_size=2)\n",
        "window_val = TimeseriesGenerator(atribut_val[:-4], target_val, length=5, batch_size=1)"
      ],
      "execution_count": 62,
      "outputs": []
    }
  ]
}